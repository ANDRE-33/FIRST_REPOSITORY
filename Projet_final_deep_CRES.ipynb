{
  "nbformat": 4,
  "nbformat_minor": 0,
  "metadata": {
    "colab": {
      "name": " Projet final deep CRES.ipynb",
      "provenance": [],
      "authorship_tag": "ABX9TyOiGl+/vWaQXytkcs26HPok",
      "include_colab_link": true
    },
    "kernelspec": {
      "name": "python3",
      "display_name": "Python 3"
    },
    "language_info": {
      "name": "python"
    },
    "accelerator": "GPU"
  },
  "cells": [
    {
      "cell_type": "markdown",
      "metadata": {
        "id": "view-in-github",
        "colab_type": "text"
      },
      "source": [
        "<a href=\"https://colab.research.google.com/github/ANDRE-33/FIRST_REPOSITORY/blob/main/Projet_final_deep_CRES.ipynb\" target=\"_parent\"><img src=\"https://colab.research.google.com/assets/colab-badge.svg\" alt=\"Open In Colab\"/></a>"
      ]
    },
    {
      "cell_type": "code",
      "execution_count": null,
      "metadata": {
        "id": "8o2WnHMK7PPB"
      },
      "outputs": [],
      "source": [
        "import numpy as np\n",
        "import matplotlib.pyplot as plt\n",
        "from tensorflow import keras\n",
        "from tensorflow.keras import optimizers\n",
        "from tensorflow.keras.models import Sequential\n",
        "from tensorflow.keras.layers import Dense, Conv2D, Flatten,AveragePooling2D,Dropout"
      ]
    },
    {
      "cell_type": "code",
      "source": [
        "from tensorflow.keras.datasets import mnist\n",
        "from tensorflow.keras.utils import to_categorical\n",
        "(X_train_data,Y_train_data),(X_test_data,Y_test_data) = mnist.load_data()\n",
        "N = X_train_data.shape[0] \n",
        "X_train = np.reshape(X_train_data, (N,28,28,1))\n",
        "X_test = np.reshape(X_test_data, (X_test_data.shape[0],28,28,1))\n",
        "X_train = X_train/255 \n",
        "X_test = X_test/255\n",
        "Y_train = to_categorical(Y_train_data, num_classes=10)\n",
        "Y_test = to_categorical(Y_test_data, num_classes=10)"
      ],
      "metadata": {
        "colab": {
          "base_uri": "https://localhost:8080/"
        },
        "id": "HSXhpVq78IxE",
        "outputId": "79a7f5c8-1346-4146-964b-57d2ee1e07e7"
      },
      "execution_count": null,
      "outputs": [
        {
          "output_type": "stream",
          "name": "stdout",
          "text": [
            "Downloading data from https://storage.googleapis.com/tensorflow/tf-keras-datasets/mnist.npz\n",
            "11493376/11490434 [==============================] - 0s 0us/step\n",
            "11501568/11490434 [==============================] - 0s 0us/step\n"
          ]
        }
      ]
    },
    {
      "cell_type": "code",
      "source": [
        "#reseau des neuronnes\n",
        "modele=Sequential()\n",
        "modele.add(Conv2D(64,kernel_size=6,padding='same', activation='relu',input_shape=(28,28,1)))\n",
        "modele.add(AveragePooling2D(pool_size=(1,1)))\n",
        "modele.add(Dropout(0.001))\n",
        "\n",
        "modele.add(Conv2D(32, kernel_size=6, padding='same',activation='relu'))\n",
        "modele.add(AveragePooling2D(pool_size=(1,1)))\n",
        "modele.add(Dropout(0.001))\n",
        "\n",
        "\n",
        "modele.add(Flatten())\n",
        "modele.add(Dense(10,activation='softmax'))\n",
        "modele.compile(loss='categorical_crossentropy',optimizer='adam',metrics=['accuracy'])"
      ],
      "metadata": {
        "id": "rN-Wt0778I-6"
      },
      "execution_count": null,
      "outputs": []
    },
    {
      "cell_type": "code",
      "source": [
        "print(modele.summary())"
      ],
      "metadata": {
        "colab": {
          "base_uri": "https://localhost:8080/"
        },
        "id": "icu7JNzd8JWq",
        "outputId": "991cb0f0-0fa0-4e02-bf6d-57e7337bdfd9"
      },
      "execution_count": null,
      "outputs": [
        {
          "output_type": "stream",
          "name": "stdout",
          "text": [
            "Model: \"sequential\"\n",
            "_________________________________________________________________\n",
            " Layer (type)                Output Shape              Param #   \n",
            "=================================================================\n",
            " conv2d (Conv2D)             (None, 28, 28, 64)        2368      \n",
            "                                                                 \n",
            " average_pooling2d (AverageP  (None, 28, 28, 64)       0         \n",
            " ooling2D)                                                       \n",
            "                                                                 \n",
            " dropout (Dropout)           (None, 28, 28, 64)        0         \n",
            "                                                                 \n",
            " conv2d_1 (Conv2D)           (None, 28, 28, 32)        73760     \n",
            "                                                                 \n",
            " average_pooling2d_1 (Averag  (None, 28, 28, 32)       0         \n",
            " ePooling2D)                                                     \n",
            "                                                                 \n",
            " dropout_1 (Dropout)         (None, 28, 28, 32)        0         \n",
            "                                                                 \n",
            " flatten (Flatten)           (None, 25088)             0         \n",
            "                                                                 \n",
            " dense (Dense)               (None, 10)                250890    \n",
            "                                                                 \n",
            "=================================================================\n",
            "Total params: 327,018\n",
            "Trainable params: 327,018\n",
            "Non-trainable params: 0\n",
            "_________________________________________________________________\n",
            "None\n"
          ]
        }
      ]
    },
    {
      "cell_type": "code",
      "source": [
        ""
      ],
      "metadata": {
        "id": "EJOFd-QN8sSt"
      },
      "execution_count": null,
      "outputs": []
    },
    {
      "cell_type": "code",
      "source": [
        "modele.fit(X_train,Y_train,batch_size=64,epochs=1)"
      ],
      "metadata": {
        "colab": {
          "base_uri": "https://localhost:8080/"
        },
        "id": "GXqQIfBb8seM",
        "outputId": "3ebb2e80-2cab-4fc2-f486-007e540bd79d"
      },
      "execution_count": null,
      "outputs": [
        {
          "output_type": "stream",
          "name": "stdout",
          "text": [
            "938/938 [==============================] - 31s 23ms/step - loss: 0.1242 - accuracy: 0.9629\n"
          ]
        },
        {
          "output_type": "execute_result",
          "data": {
            "text/plain": [
              "<keras.callbacks.History at 0x7f6e101c3e10>"
            ]
          },
          "metadata": {},
          "execution_count": 5
        }
      ]
    },
    {
      "cell_type": "code",
      "source": [
        "score=modele.evaluate(X_test,Y_test, verbose=1)\n",
        "print('Test loss',score[0])\n",
        "print('Test accuracy',score[1])"
      ],
      "metadata": {
        "colab": {
          "base_uri": "https://localhost:8080/"
        },
        "id": "YMwsehO483qu",
        "outputId": "245bc4a8-cb2e-49bf-e4e2-0722ed395e35"
      },
      "execution_count": null,
      "outputs": [
        {
          "output_type": "stream",
          "name": "stdout",
          "text": [
            "313/313 [==============================] - 3s 10ms/step - loss: 0.0550 - accuracy: 0.9809\n",
            "Test loss 0.05502011254429817\n",
            "Test accuracy 0.98089998960495\n"
          ]
        }
      ]
    },
    {
      "cell_type": "code",
      "source": [
        "# Prédiction sur les données de test\n",
        "Y_predict = modele.predict(X_test)\n",
        "\n",
        "# Un exemple\n",
        "i = 34 # numéro de l'image\n",
        "chiffre_predit = np.argmax(Y_predict[i]) # prédiction par le réseau\n",
        "print(\"Sortie réseau\", Y_predict[i])\n",
        "print(\"Chiffre attendu :\", Y_test_data[i])\n",
        "print(\"Chiffre prédit :\", chiffre_predit)\n",
        "plt.imshow(X_test_data[i], cmap='Greys')\n",
        "plt.show()"
      ],
      "metadata": {
        "colab": {
          "base_uri": "https://localhost:8080/",
          "height": 334
        },
        "id": "vsTMkvWY96xy",
        "outputId": "3d414d8c-55c2-4567-d96a-d6fb38fe766a"
      },
      "execution_count": null,
      "outputs": [
        {
          "output_type": "stream",
          "name": "stdout",
          "text": [
            "Sortie réseau [7.5778739e-10 6.9492473e-10 6.1874738e-07 1.0788919e-05 1.1014248e-12\n",
            " 3.7058430e-09 1.8148041e-15 9.9998450e-01 3.9591018e-06 8.9563372e-08]\n",
            "Chiffre attendu : 7\n",
            "Chiffre prédit : 7\n"
          ]
        },
        {
          "output_type": "display_data",
          "data": {
            "image/png": "[encoded data removed]",
            "text/plain": [
              "<Figure size 432x288 with 1 Axes>"
            ]
          },
          "metadata": {
            "needs_background": "light"
          }
        }
      ]
    },
    {
      "cell_type": "code",
      "source": [
        "modele.save('model_deep_GoogleColab.h5')"
      ],
      "metadata": {
        "id": "4Dwe2AZz-FTN"
      },
      "execution_count": null,
      "outputs": []
    }
  ]
}